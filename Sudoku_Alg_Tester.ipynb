{
 "cells": [
  {
   "cell_type": "code",
   "execution_count": 1,
   "metadata": {},
   "outputs": [],
   "source": [
    "from Sudoku_Alg import solve\n",
    "from Sudoku_checker import check_board\n",
    "import numpy as np"
   ]
  },
  {
   "cell_type": "code",
   "execution_count": 2,
   "metadata": {},
   "outputs": [
    {
     "name": "stdout",
     "output_type": "stream",
     "text": [
      "[[3 0 6 5 0 8 4 0 0]\n",
      " [5 2 0 0 0 0 0 0 0]\n",
      " [0 8 7 0 0 0 0 3 1]\n",
      " [0 0 3 0 1 0 0 8 0]\n",
      " [9 0 0 8 6 3 0 0 5]\n",
      " [0 5 0 0 9 0 6 0 0]\n",
      " [1 3 0 0 0 0 2 5 0]\n",
      " [0 0 0 0 0 0 0 7 4]\n",
      " [0 0 5 2 0 6 3 0 0]]\n"
     ]
    }
   ],
   "source": [
    "board = [[3, 0, 6, 5, 0, 8, 4, 0, 0],\n",
    "         [5, 2, 0, 0, 0, 0, 0, 0, 0],\n",
    "         [0, 8, 7, 0, 0, 0, 0, 3, 1],\n",
    "         [0, 0, 3, 0, 1, 0, 0, 8, 0],\n",
    "         [9, 0, 0, 8, 6, 3, 0, 0, 5],\n",
    "         [0, 5, 0, 0, 9, 0, 6, 0, 0],\n",
    "         [1, 3, 0, 0, 0, 0, 2, 5, 0],\n",
    "         [0, 0, 0, 0, 0, 0, 0, 7, 4],\n",
    "         [0, 0, 5, 2, 0, 6, 3, 0, 0]]\n",
    "\n",
    "print(np.matrix(board))"
   ]
  },
  {
   "cell_type": "code",
   "execution_count": 3,
   "metadata": {},
   "outputs": [
    {
     "name": "stdout",
     "output_type": "stream",
     "text": [
      "[[3 1 6 5 7 8 4 9 2]\n",
      " [5 2 9 1 3 4 7 6 8]\n",
      " [4 8 7 6 2 9 5 3 1]\n",
      " [2 6 3 4 1 5 9 8 7]\n",
      " [9 7 4 8 6 3 1 2 5]\n",
      " [8 5 1 7 9 2 6 4 3]\n",
      " [1 3 8 9 4 7 2 5 6]\n",
      " [6 9 2 3 5 1 8 7 4]\n",
      " [7 4 5 2 8 6 3 1 9]]\n"
     ]
    }
   ],
   "source": [
    "solution = solve(np.array(board))\n",
    "\n",
    "if solution is not None:\n",
    "    print(np.matrix(solution))"
   ]
  },
  {
   "cell_type": "code",
   "execution_count": 4,
   "metadata": {},
   "outputs": [
    {
     "name": "stdout",
     "output_type": "stream",
     "text": [
      "Solution is valid\n"
     ]
    }
   ],
   "source": [
    "if check_board(solution):\n",
    "    print('Solution is valid')\n",
    "else:\n",
    "    print('Solution is NOT valid')"
   ]
  }
 ],
 "metadata": {
  "kernelspec": {
   "display_name": "Python 3",
   "language": "python",
   "name": "python3"
  },
  "language_info": {
   "codemirror_mode": {
    "name": "ipython",
    "version": 3
   },
   "file_extension": ".py",
   "mimetype": "text/x-python",
   "name": "python",
   "nbconvert_exporter": "python",
   "pygments_lexer": "ipython3",
   "version": "3.9.4"
  }
 },
 "nbformat": 4,
 "nbformat_minor": 2
}
